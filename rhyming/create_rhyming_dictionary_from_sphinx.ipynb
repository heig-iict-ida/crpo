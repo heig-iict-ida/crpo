{
 "cells": [
  {
   "cell_type": "markdown",
   "id": "42b42953",
   "metadata": {},
   "source": [
    "# Creation of rhyming dictionary\n",
    "\n",
    "**Àlex R. Atrio and Andrei Popescu-Belis, HEIG-VD/HES-SO and EPFL, 2023**\n",
    "\n",
    "This notebook contains the functions that create a rhyming dictionary based on a phonetic dictionary provided by CMU Sphinx at: http://svn.code.sf.net/p/cmusphinx/code/trunk/cmudict/sphinxdict/cmudict_SPHINX_40.   \n",
    "\n",
    "We already provide the rhyming dictionary, actually three Python dictionaries bundled as `rhyming_dictionaries.pickle` for use in `rhyme-counter.ipynb`.  But it can be re-created using this notebook, using the file `cmudict_SPHINX_40` obtained from [CMU Sphinx](http://svn.code.sf.net/p/cmusphinx/code/trunk/cmudict/sphinxdict/cmudict_SPHINX_40)."
   ]
  },
  {
   "cell_type": "code",
   "execution_count": 1,
   "id": "85051e43",
   "metadata": {},
   "outputs": [],
   "source": [
    "import pickle\n",
    "import os\n",
    "import numpy as np"
   ]
  },
  {
   "cell_type": "code",
   "execution_count": 2,
   "id": "fd86d322",
   "metadata": {},
   "outputs": [
    {
     "name": "stdout",
     "output_type": "stream",
     "text": [
      "132962\n",
      "[('abdicate', ['ae', 'b', 'd', 'ah', 'k', 'ey', 't']), ('abdicated', ['ae', 'b', 'd', 'ah', 'k', 'ey', 't', 'ah', 'd']), ('abdicates', ['ae', 'b', 'd', 'ah', 'k', 'ey', 't', 's']), ('abdicating', ['ae', 'b', 'd', 'ih', 'k', 'ey', 't', 'ih', 'ng']), ('abdication', ['ae', 'b', 'd', 'ih', 'k', 'ey', 'sh', 'ah', 'n']), ('abdnor', ['ae', 'b', 'd', 'n', 'er']), ('abdo', ['ae', 'b', 'd', 'ow']), ('abdollah', ['ae', 'b', 'd', 'aa', 'l', 'ah']), ('abdomen', ['ae', 'b', 'd', 'ow', 'm', 'ah', 'n']), ('abdomen(2)', ['ae', 'b', 'd', 'ah', 'm', 'ah', 'n'])]\n"
     ]
    }
   ],
   "source": [
    "with open(\"./cmudict_SPHINX_40\", \"r\") as f:\n",
    "    raw = f.read().split(\"\\n\")[:-1][64:-5] # 64- -5 to avoid getting punctuation mark spellings\n",
    "    \n",
    "phonetic_dictionary = {line.split(\"\\t\")[0].lower(): line.split(\"\\t\")[1].lower().split() for line in raw}\n",
    "print(len(list(phonetic_dictionary.items())))\n",
    "print(list(phonetic_dictionary.items())[100:110])"
   ]
  },
  {
   "cell_type": "code",
   "execution_count": 3,
   "id": "a8e7cad0",
   "metadata": {},
   "outputs": [],
   "source": [
    "phonemic_vowels = [\"AA\",\"AE\",\"AH\",\"AO\",\"AW\",\"AY\",\"EH\",\"EY\",\"IH\",\"IY\",\"OW\",\"OY\",\"UH\",\"UW\",\"W\",\"Y\"] + [\"ER\"]\n",
    "# phonemic_consonants = [\"B\",\"CH\",\"D\",\"DH\",\"F\",\"G\",\"HH\",\"K\",\"L\",\"M\",\"N\",\"NG\",\"JH\",\"P\",\"R\",\"S\",\"SH\",\"T\",\"TH\",\"V\",\"Z\",\"ZH\",\"SIL\"]"
   ]
  },
  {
   "cell_type": "code",
   "execution_count": 4,
   "id": "9ef9da54",
   "metadata": {},
   "outputs": [],
   "source": [
    "# We consider the following definition of rhyme from Tim Van de Cruys, \n",
    "# \"Automatic poetry generation from prosaic text\" (Proc. of ACL 2020):\n",
    "#\n",
    "# identity of \"final group of vowels, optionally followed by a group of consonants, \n",
    "# as well as the group of consonants that precedes the group of vowels.\" \n",
    "\n",
    "word2rhymes = {}\n",
    "\n",
    "for key, phonemes in phonetic_dictionary.items():\n",
    "    final_pos = 0\n",
    "    for pos, phoneme in enumerate(phonemes):\n",
    "        if phoneme.upper() in phonemic_vowels:\n",
    "            final_pos = pos\n",
    "    assonant_rhyme = phonemes[final_pos]\n",
    "    perf_rhyme = \"\".join(phonemes[final_pos:])\n",
    "    word2rhymes[key] = [perf_rhyme, assonant_rhyme]"
   ]
  },
  {
   "cell_type": "code",
   "execution_count": 5,
   "id": "06992d1c",
   "metadata": {},
   "outputs": [
    {
     "name": "stdout",
     "output_type": "stream",
     "text": [
      "figallo ['ow', 'ow']\n",
      "sub ['ahb', 'ah']\n",
      "fertitta ['ah', 'ah']\n",
      "mongold ['owld', 'ow']\n",
      "vigilant ['ahnt', 'ah']\n",
      "prudhoe ['ow', 'ow']\n",
      "birden ['ahn', 'ah']\n",
      "adventuresome ['ahm', 'ah']\n",
      "naming ['ihng', 'ih']\n",
      "willem ['ahm', 'ah']\n"
     ]
    }
   ],
   "source": [
    "for key in np.random.choice(list(word2rhymes.keys()), 10):\n",
    "    print(key, word2rhymes[key])"
   ]
  },
  {
   "cell_type": "code",
   "execution_count": 6,
   "id": "a1bc1a1e",
   "metadata": {},
   "outputs": [
    {
     "name": "stdout",
     "output_type": "stream",
     "text": [
      "132962\n",
      "123631\n"
     ]
    }
   ],
   "source": [
    "# Remove keys with parentheses and numbers:\n",
    "print(len(word2rhymes))\n",
    "word2rhymes = {key: val for key, val in word2rhymes.items() if \"(\" not in key and \")\" not in key }\n",
    "print(len(word2rhymes))\n",
    "\n",
    "# Optional: remove keys with fewer than 3 characters:\n",
    "# word2rhymes = {key: val for key, val in word2rhymes.items() if len(key) >= 3}\n",
    "# print(len(word2rhymes))"
   ]
  },
  {
   "cell_type": "code",
   "execution_count": 8,
   "id": "7c633abe",
   "metadata": {},
   "outputs": [
    {
     "name": "stdout",
     "output_type": "stream",
     "text": [
      "['abductors', 'absorbers', 'abusers', 'accelerators', 'accelerometers', \"accor's\", 'accumulators', 'accusers', 'achievers', \"acker's\"]\n",
      "['a', 'aachen', 'aamodt', 'aardema', 'aaron', \"aaron's\", 'aarons', 'aaronson', \"aaronson's\", 'aasen']\n"
     ]
    }
   ],
   "source": [
    "perfect_rhyme = {}\n",
    "assonant_rhyme = {}\n",
    "\n",
    "# We perform a reverse mapping from rhymes to words (twice), and create \n",
    "# two new dictionaries to accelerate lookup when testing rhymes:\n",
    "for key, vals in word2rhymes.items(): \n",
    "    cons = vals[0]\n",
    "    asson = vals[1]\n",
    "    \n",
    "    if cons in perfect_rhyme.keys():\n",
    "        perfect_rhyme[cons] += [key]\n",
    "    else:\n",
    "        perfect_rhyme[cons] = [key]\n",
    "\n",
    "    if asson in assonant_rhyme.keys():\n",
    "        assonant_rhyme[asson] += [key]\n",
    "    else:\n",
    "        assonant_rhyme[asson] = [key]\n",
    "\n",
    "        \n",
    "print(perfect_rhyme[\"erz\"][:10])\n",
    "print(assonant_rhyme[\"ah\"][:10])"
   ]
  },
  {
   "cell_type": "code",
   "execution_count": 9,
   "id": "41d037f5",
   "metadata": {},
   "outputs": [
    {
     "name": "stdout",
     "output_type": "stream",
     "text": [
      "1356\n",
      "19\n",
      "['ah', 'ey', 'er', 'eh', 'ao', 'aa', 'iy', 'ae', 'ow', 'ih', 'aw', 'uw', 'ay', 'oy', 'uh', 'w', 'f', 'y', 'th']\n"
     ]
    }
   ],
   "source": [
    "# With the definition of rhyme given above,\n",
    "# we obtain the following number of unique endings \n",
    "# (phonetic) for perfect rhymes, then for assonant rhymes:\n",
    "print(len(perfect_rhyme.keys()))\n",
    "print(len(assonant_rhyme.keys()))\n",
    "print(list(assonant_rhyme.keys()))"
   ]
  },
  {
   "cell_type": "code",
   "execution_count": 10,
   "id": "eaa819b9",
   "metadata": {},
   "outputs": [],
   "source": [
    "with open(\"./rhyming_dictionaries.pickle\", \"wb\") as f:\n",
    "    pickle.dump([word2rhymes, perfect_rhyme, assonant_rhyme], f, protocol=pickle.HIGHEST_PROTOCOL)"
   ]
  },
  {
   "cell_type": "code",
   "execution_count": null,
   "id": "2213db13",
   "metadata": {},
   "outputs": [],
   "source": []
  }
 ],
 "metadata": {
  "kernelspec": {
   "display_name": "Python 3",
   "language": "python",
   "name": "python3"
  },
  "language_info": {
   "codemirror_mode": {
    "name": "ipython",
    "version": 3
   },
   "file_extension": ".py",
   "mimetype": "text/x-python",
   "name": "python",
   "nbconvert_exporter": "python",
   "pygments_lexer": "ipython3",
   "version": "3.8.5"
  }
 },
 "nbformat": 4,
 "nbformat_minor": 5
}
