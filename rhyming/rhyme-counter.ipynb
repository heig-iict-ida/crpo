{
 "cells": [
  {
   "cell_type": "markdown",
   "id": "4a090773",
   "metadata": {},
   "source": [
    "# Rhyme counter\n",
    "\n",
    "**Àlex R. Atrio and Andrei Popescu-Belis, HEIG-VD/HES-SO and EPFL, 2023**\n",
    "\n",
    "This notebook defines functions that verify if two verses rhyme or not, then count the number of rhymes in poems.\n",
    "\n",
    "This is the rhyming measure used in Section 2 of our paper \"[GPoeT: a Language Model Trained for Rhyme Generation on Synthetic Data](https://aclanthology.org/2023.latechclfl-1.2/)\" by Popescu-Belis A., Atrio A.R. et al., presented at the [LaTeCH-CLfL 2023 workshop](https://aclanthology.org/volumes/2023.latechclfl-1/).\n",
    "\n",
    "The main function is `test_rhyme()` which returns '2' if two verses (lines) have a *perfect rhyme*, '1' if they have an *assonant rhyme*, and '0' otherwise (see https://rhymenow.com/types-of-rhymes for definitions of these cases).  The function relies on `verse2rhyme()` which, given a verse (line), returns an array with two elements: (1) the perfect rhyme (i.e. a word ending) and (2) the assonant rhyme (another ending).  These are determined based on the last word of the verse, removing punctuations, and solving contractions.  If the ending word is not found in the dictionary, the function looks for the most similar one that can be found.\n",
    "\n",
    "Both functions rely on a dictionary of rhymes, which contains for each word its *perfect rhyme* and its *assonant rhyme*.  The dictionary can be loaded by calling `get_rhyming_dictionary` with the path to the dictionary, which is stored in the  `rhyming_dictionaries.pickle` file, also provided here (4.3 MB).  The file contains in reality three Python dictionaries (words -> rhymes but also perfect rhymes -> words and assonant rhymes -> words) in order to improve efficiency when generating poems.  They were built from a phonetic dictionary of English provided by [CMU Sphinx](http://svn.code.sf.net/p/cmusphinx/code/trunk/cmudict/sphinxdict/) using the functions in the notebook `create_rhyming_dictionary_from_sphinx.ipynb`, also provided here.\n",
    "\n",
    "At the end, this notebook  contains three example of measuring rhymes on poems by Emily Dickinson, Shakespeare and W.E.Henley.\n",
    "\n",
    "As explained in our [GPoeT paper](https://aclanthology.org/2023.latechclfl-1.2/), we validated the `test_rhyme()` function using a cleaned subset of the [Chicago Rhyming Poetry Corpus](https://github.com/sravanareddy/rhymedata) with manually annotated rhymes, and found that:\n",
    "* it correctly finds 80% of true rhymes (most of them being considered as perfect)\n",
    "* it correctly finds that about 90% of the non-rhyming words are indeed not rhymes."
   ]
  },
  {
   "cell_type": "code",
   "execution_count": 1,
   "id": "06eab5a0",
   "metadata": {},
   "outputs": [],
   "source": [
    "import pickle\n",
    "import os\n",
    "from nltk.tokenize import word_tokenize\n",
    "# nltk.download('punkt') # may be needed the first time\n",
    "import difflib"
   ]
  },
  {
   "cell_type": "code",
   "execution_count": 2,
   "id": "0245f3e8",
   "metadata": {},
   "outputs": [],
   "source": [
    "def get_rhyming_dictionary(path=\"./rhyming_dictionaries.pickle\"):\n",
    "    \"\"\"Pickle contains 3 dictionaries for faster search (hashes: O(1))\n",
    "    {word: [perfect_rhyme, assonant_rhyme]}, {perfect_rhyme : [words...]} \n",
    "    and {assonant_rhyme : [words...]}, but we only need the first one.\n",
    "    \"\"\"\n",
    "    with open(path,\"rb\") as fd:\n",
    "        word2rhymes, _, _ = pickle.load(fd)\n",
    "    return word2rhymes"
   ]
  },
  {
   "cell_type": "code",
   "execution_count": 3,
   "id": "2324ab41",
   "metadata": {},
   "outputs": [],
   "source": [
    "word2rhymes = get_rhyming_dictionary()"
   ]
  },
  {
   "cell_type": "code",
   "execution_count": 4,
   "id": "0d319c94",
   "metadata": {},
   "outputs": [
    {
     "name": "stdout",
     "output_type": "stream",
     "text": [
      "Number of words in dictionary: 123631\n",
      "Sample entry for 'campaign': ['eyn', 'ey']\n",
      "Sample entry for 'do' ['uw', 'uw']\n",
      "Sample entry for 'wouldn't' : ['ahnt', 'ah']\n"
     ]
    }
   ],
   "source": [
    "print('Number of words in dictionary:', len(word2rhymes))\n",
    "print('Sample entry for \\'campaign\\':', word2rhymes['campaign']) # returns [perfect rhyme, assonant rhyme]\n",
    "print('Sample entry for \\'do\\'', word2rhymes['do']) # same, for a short word\n",
    "print('Sample entry for \\'wouldn\\'t\\' :', word2rhymes['wouldn\\'t']) # same, for a contraction"
   ]
  },
  {
   "cell_type": "code",
   "execution_count": 5,
   "id": "670e29ce",
   "metadata": {},
   "outputs": [],
   "source": [
    "def verse2rhyme(verse, rhyme_dict):\n",
    "    \"\"\"\n",
    "    Returns an array with two elements: (1) the perfect rhyme and (2) the assonant \n",
    "    rhyme of the verse (its last word, except punctuations and contractions).\n",
    "    If the word is not found in the dictionary, it looks for the most similar one.\n",
    "    \"\"\"\n",
    "    punctuation = ['.', ',', ',', ':', ';', '!', '?', ' ', '-', '...', '_']\n",
    "    verse = verse.replace('’', '\\'')\n",
    "    v = word_tokenize(verse)\n",
    "    v = [w for w in v if w not in punctuation] # remove all punctuations\n",
    "    if len(v) == 0:\n",
    "        return []\n",
    "    if v[-1] == 'n\\'t':             # tokenizer's output on contraction: don't -> do, n't\n",
    "        final_word = v[-2] + v[-1]  # restore full form (v[-2] is necessarily present)\n",
    "    elif v[-1] == '\\'d':            # for contraction of past participle (Shakespeare!)\n",
    "        final_word = v[-2] + 'ed'\n",
    "    else:\n",
    "        final_word = v[-1]\n",
    "    final_word = final_word.lower()\n",
    "    if final_word not in rhyme_dict: # find a similar word that *is* in the dictionary\n",
    "        similar_words = difflib.get_close_matches(final_word, rhyme_dict.keys(), n=1) # time consuming\n",
    "        # a possibility is to use final_word[7:] so as to consider only the 7 last letters for matching\n",
    "        # print(final_word, '->', similar_words)\n",
    "        if similar_words == []:\n",
    "            return ['', ''] # if it couldn't find anything\n",
    "        else:\n",
    "            return rhyme_dict[similar_words[0]]\n",
    "    return rhyme_dict[final_word]"
   ]
  },
  {
   "cell_type": "code",
   "execution_count": 6,
   "id": "0a8ff63c",
   "metadata": {},
   "outputs": [],
   "source": [
    "# This is the main function to test if two verses (lines) rhyme:\n",
    "\n",
    "def test_rhyme(verse1, verse2, rhyme_dict):\n",
    "    \"\"\"\n",
    "    Returns '2' if verses have \"perfect rhyme\", '1' for \"assonant rhyme\", and '0' otherwise.\n",
    "    See https://rhymenow.com/types-of-rhymes for definitions of these cases.\n",
    "    \"\"\"\n",
    "    rh1 = verse2rhyme(verse1, rhyme_dict)\n",
    "    rh2 = verse2rhyme(verse2, rhyme_dict)\n",
    "    if rh1[0] == rh2[0]:\n",
    "        return 2\n",
    "    elif rh1[1] == rh2[1]:\n",
    "        return 1\n",
    "    else:\n",
    "        return 0"
   ]
  },
  {
   "cell_type": "code",
   "execution_count": 7,
   "id": "77deab11",
   "metadata": {},
   "outputs": [],
   "source": [
    "# Test the test_rhyme() function on a poem by Emily Dickinson\n",
    "poem_ED = \"\"\"To make a prairie it takes a clover and one bee,\n",
    "One clover, and a bee.\n",
    "And revery.\n",
    "The revery alone will do,\n",
    "If bees are few.\"\"\""
   ]
  },
  {
   "cell_type": "code",
   "execution_count": 8,
   "id": "5312be3c",
   "metadata": {},
   "outputs": [
    {
     "name": "stdout",
     "output_type": "stream",
     "text": [
      "['iy', 'iy']\n",
      "['iy', 'iy']\n",
      "['iy', 'iy']\n",
      "['uw', 'uw']\n",
      "['uw', 'uw']\n"
     ]
    }
   ],
   "source": [
    "for line in poem_ED.split('\\n'):\n",
    "    print(verse2rhyme(line, word2rhymes))"
   ]
  },
  {
   "cell_type": "code",
   "execution_count": 9,
   "id": "482aff13",
   "metadata": {},
   "outputs": [
    {
     "name": "stdout",
     "output_type": "stream",
     "text": [
      "2 2 2 0 0 \n",
      "2 2 2 0 0 \n",
      "2 2 2 0 0 \n",
      "0 0 0 2 2 \n",
      "0 0 0 2 2 \n"
     ]
    }
   ],
   "source": [
    "# Find out which pairs of verses do rhyme, and which don't.\n",
    "#\n",
    "# The code is not optimal, because we get the rhymes n*n times instead of n \n",
    "# and we also call test_rhyme n*n times instead of n*(n-1)/2.\n",
    "for line1 in poem_ED.split('\\n'):\n",
    "    for line2 in poem_ED.split('\\n'):\n",
    "        print(test_rhyme(line1, line2, word2rhymes), end=' ')\n",
    "    print()"
   ]
  },
  {
   "cell_type": "code",
   "execution_count": 10,
   "id": "d3500ddd",
   "metadata": {},
   "outputs": [],
   "source": [
    "# A faster method to find out which verses of a poem rhyme.\n",
    "# This does not use test_rhyme but gets rhymes once for each verse.\n",
    "\n",
    "def print_all_rhymes(poem, rhyme_dict):\n",
    "    lines = poem.split('\\n')\n",
    "    rhymes = [verse2rhyme(line, rhyme_dict) for line in lines]\n",
    "    print('Rhymes with previous verses\\n', ' ' * 8, end='')\n",
    "    for i in range(1, len(lines)):\n",
    "        print(i % 10, end=' ')\n",
    "    print('')\n",
    "    for i in range(len(lines)):\n",
    "        print('Verse', (i+1) % 10, end=': ')\n",
    "        for j in range(len(lines)-1):\n",
    "            if j >= i:\n",
    "                print('.', end=' ')\n",
    "            elif rhymes[i][0] == rhymes[j][0]:\n",
    "                print('2', end=' ')\n",
    "            elif rhymes[i][1] == rhymes[j][1]:\n",
    "                print('1', end=' ')\n",
    "            else:\n",
    "                print('0', end=' ')\n",
    "        print('')\n",
    "    return rhymes"
   ]
  },
  {
   "cell_type": "code",
   "execution_count": 11,
   "id": "fc3fac1d",
   "metadata": {},
   "outputs": [
    {
     "name": "stdout",
     "output_type": "stream",
     "text": [
      "Rhymes with previous verses\n",
      "         1 2 3 4 \n",
      "Verse 1: . . . . \n",
      "Verse 2: 2 . . . \n",
      "Verse 3: 2 2 . . \n",
      "Verse 4: 0 0 0 . \n",
      "Verse 5: 0 0 0 2 \n"
     ]
    },
    {
     "data": {
      "text/plain": [
       "[['iy', 'iy'], ['iy', 'iy'], ['iy', 'iy'], ['uw', 'uw'], ['uw', 'uw']]"
      ]
     },
     "execution_count": 11,
     "metadata": {},
     "output_type": "execute_result"
    }
   ],
   "source": [
    "print_all_rhymes(poem_ED, word2rhymes) # The results fit our perception of rhymes."
   ]
  },
  {
   "cell_type": "code",
   "execution_count": 12,
   "id": "a3a7bd97",
   "metadata": {},
   "outputs": [],
   "source": [
    "# Test functions on an entire sonnet by Shakespeare.\n",
    "\n",
    "poem_WS = \"\"\"Shall I compare thee to a summer’s day?\n",
    "Thou art more lovely and more temperate:\n",
    "Rough winds do shake the darling buds of May,\n",
    "And summer’s lease hath all too short a date:\n",
    "Sometime too hot the eye of heaven shines,\n",
    "And often is his gold complexion dimm’d;\n",
    "And every fair from fair sometime declines,\n",
    "By chance or nature’s changing course untrimm’d;\n",
    "But thy eternal summer shall not fade\n",
    "Nor lose possession of that fair thou owest;\n",
    "Nor shall Death brag thou wander’st in his shade,\n",
    "When in eternal lines to time thou growest:\n",
    "So long as men can breathe or eyes can see,\n",
    "So long lives this and this gives life to thee.\"\"\""
   ]
  },
  {
   "cell_type": "code",
   "execution_count": 13,
   "id": "cdb3a929",
   "metadata": {},
   "outputs": [
    {
     "name": "stdout",
     "output_type": "stream",
     "text": [
      "Rhymes with previous verses\n",
      "         1 2 3 4 5 6 7 8 9 0 1 2 3 \n",
      "Verse 1: . . . . . . . . . . . . . \n",
      "Verse 2: 0 . . . . . . . . . . . . \n",
      "Verse 3: 2 0 . . . . . . . . . . . \n",
      "Verse 4: 1 0 1 . . . . . . . . . . \n",
      "Verse 5: 0 0 0 0 . . . . . . . . . \n",
      "Verse 6: 0 0 0 0 0 . . . . . . . . \n",
      "Verse 7: 0 0 0 0 2 0 . . . . . . . \n",
      "Verse 8: 0 0 0 0 1 0 1 . . . . . . \n",
      "Verse 9: 1 0 1 1 0 0 0 0 . . . . . \n",
      "Verse 0: 0 1 0 0 0 0 0 0 0 . . . . \n",
      "Verse 1: 1 0 1 1 0 0 0 0 2 0 . . . \n",
      "Verse 2: 0 0 0 0 0 0 0 0 0 0 0 . . \n",
      "Verse 3: 0 0 0 0 0 0 0 0 0 0 0 0 . \n",
      "Verse 4: 0 0 0 0 0 0 0 0 0 0 0 0 2 \n"
     ]
    },
    {
     "data": {
      "text/plain": [
       "[['ey', 'ey'],\n",
       " ['aht', 'ah'],\n",
       " ['ey', 'ey'],\n",
       " ['eyt', 'ey'],\n",
       " ['aynz', 'ay'],\n",
       " ['ihmd', 'ih'],\n",
       " ['aynz', 'ay'],\n",
       " ['ayd', 'ay'],\n",
       " ['eyd', 'ey'],\n",
       " ['ahst', 'ah'],\n",
       " ['eyd', 'ey'],\n",
       " ['erz', 'er'],\n",
       " ['iy', 'iy'],\n",
       " ['iy', 'iy']]"
      ]
     },
     "execution_count": 13,
     "metadata": {},
     "output_type": "execute_result"
    }
   ],
   "source": [
    "print_all_rhymes(poem_WS, word2rhymes) # The results fit our perception of rhymes."
   ]
  },
  {
   "cell_type": "code",
   "execution_count": 14,
   "id": "62cb11ef",
   "metadata": {},
   "outputs": [],
   "source": [
    "# A third test on a poem by W. E. Henley\n",
    "\n",
    "poem_WEH = \"\"\"Out of the night that covers me,\n",
    "Black as the pit from pole to pole,\n",
    "I thank whatever gods may be\n",
    "For my unconquerable soul.\n",
    "In the fell clutch of circumstance\n",
    "I have not winced nor cried aloud.\n",
    "Under the bludgeonings of chance\n",
    "My head is bloody, but unbowed.\n",
    "Beyond this place of wrath and tears\n",
    "Looms but the Horror of the shade,\n",
    "And yet the menace of the years\n",
    "Finds and shall find me unafraid.\n",
    "It matters not how strait the gate,\n",
    "How charged with punishments the scroll,\n",
    "I am the master of my fate :\n",
    "I am the captain of my soul.\"\"\""
   ]
  },
  {
   "cell_type": "code",
   "execution_count": 15,
   "id": "af152bbe",
   "metadata": {},
   "outputs": [
    {
     "name": "stdout",
     "output_type": "stream",
     "text": [
      "Rhymes with previous verses\n",
      "         1 2 3 4 5 6 7 8 9 0 1 2 3 4 5 \n",
      "Verse 1: . . . . . . . . . . . . . . . \n",
      "Verse 2: 0 . . . . . . . . . . . . . . \n",
      "Verse 3: 2 0 . . . . . . . . . . . . . \n",
      "Verse 4: 0 2 0 . . . . . . . . . . . . \n",
      "Verse 5: 0 0 0 0 . . . . . . . . . . . \n",
      "Verse 6: 0 0 0 0 0 . . . . . . . . . . \n",
      "Verse 7: 0 0 0 0 2 0 . . . . . . . . . \n",
      "Verse 8: 0 1 0 1 0 0 0 . . . . . . . . \n",
      "Verse 9: 0 0 0 0 0 0 0 0 . . . . . . . \n",
      "Verse 0: 0 0 0 0 0 0 0 0 0 . . . . . . \n",
      "Verse 1: 0 0 0 0 0 0 0 0 0 0 . . . . . \n",
      "Verse 2: 0 0 0 0 0 0 0 0 0 2 0 . . . . \n",
      "Verse 3: 0 0 0 0 0 0 0 0 0 1 0 1 . . . \n",
      "Verse 4: 0 2 0 2 0 0 0 1 0 0 0 0 0 . . \n",
      "Verse 5: 0 0 0 0 0 0 0 0 0 1 0 1 2 0 . \n",
      "Verse 6: 0 2 0 2 0 0 0 1 0 0 0 0 0 2 0 \n"
     ]
    },
    {
     "data": {
      "text/plain": [
       "[['iy', 'iy'],\n",
       " ['owl', 'ow'],\n",
       " ['iy', 'iy'],\n",
       " ['owl', 'ow'],\n",
       " ['aens', 'ae'],\n",
       " ['awd', 'aw'],\n",
       " ['aens', 'ae'],\n",
       " ['owd', 'ow'],\n",
       " ['ehrz', 'eh'],\n",
       " ['eyd', 'ey'],\n",
       " ['ihrz', 'ih'],\n",
       " ['eyd', 'ey'],\n",
       " ['eyt', 'ey'],\n",
       " ['owl', 'ow'],\n",
       " ['eyt', 'ey'],\n",
       " ['owl', 'ow']]"
      ]
     },
     "execution_count": 15,
     "metadata": {},
     "output_type": "execute_result"
    }
   ],
   "source": [
    "print_all_rhymes(poem_WEH, word2rhymes)"
   ]
  },
  {
   "cell_type": "code",
   "execution_count": null,
   "id": "cc6a6f8b",
   "metadata": {},
   "outputs": [],
   "source": []
  }
 ],
 "metadata": {
  "kernelspec": {
   "display_name": "Python 3",
   "language": "python",
   "name": "python3"
  },
  "language_info": {
   "codemirror_mode": {
    "name": "ipython",
    "version": 3
   },
   "file_extension": ".py",
   "mimetype": "text/x-python",
   "name": "python",
   "nbconvert_exporter": "python",
   "pygments_lexer": "ipython3",
   "version": "3.8.5"
  }
 },
 "nbformat": 4,
 "nbformat_minor": 5
}
